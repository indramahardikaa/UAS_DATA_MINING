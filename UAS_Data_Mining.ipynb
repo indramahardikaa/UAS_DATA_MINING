{
 "cells": [
  {
   "cell_type": "markdown",
   "id": "9b7ced91",
   "metadata": {},
   "source": [
    "# Implementasi Clustering dengan K-Means\n",
    "\n",
    "Pada notebook ini, kita akan melakukan clustering pada dataset menggunakan algoritma K-Means. Dataset yang digunakan adalah data fiktif yang memiliki dua fitur, yaitu 'x' dan 'y'."
   ]
  },
  {
   "cell_type": "markdown",
   "id": "8fd29e42",
   "metadata": {},
   "source": [
    "## Langkah 1: Import Library\n",
    "\n",
    "Pertama, kita akan mengimport library yang diperlukan yaitu `pandas`, `KMeans` dari `sklearn.cluster`, dan `matplotlib.pyplot`."
   ]
  },
  {
   "cell_type": "code",
   "execution_count": null,
   "id": "cdef526b",
   "metadata": {},
   "outputs": [],
   "source": [
    "import pandas as pd\n",
    "from sklearn.cluster import KMeans\n",
    "import matplotlib.pyplot as plt"
   ]
  },
  {
   "cell_type": "markdown",
   "id": "62dd251d",
   "metadata": {},
   "source": [
    "## Langkah 2: Membuat Dataset\n",
    "\n",
    "Selanjutnya, kita akan membuat dataset fiktif yang memiliki dua fitur: 'x' dan 'y'."
   ]
  },
  {
   "cell_type": "code",
   "execution_count": null,
   "id": "69ba23a3",
   "metadata": {},
   "outputs": [],
   "source": [
    "data = {'x': [25, 34, 22, 27, 33, 36, 30, 29, 35, 30],\n",
    "        'y': [79, 51, 53, 77, 92, 98, 91, 72, 81, 50]}\n",
    "df = pd.DataFrame(data)"
   ]
  },
  {
   "cell_type": "markdown",
   "id": "4dfcb3e4",
   "metadata": {},
   "source": [
    "## Langkah 3: Menentukan Jumlah Cluster\n",
    "\n",
    "Kita akan menentukan jumlah cluster yang diinginkan (misalnya 2) dan mengaplikasikan algoritma K-Means pada dataset."
   ]
  },
  {
   "cell_type": "code",
   "execution_count": null,
   "id": "89b8009c",
   "metadata": {},
   "outputs": [],
   "source": [
    "kmeans = KMeans(n_clusters=2)\n",
    "kmeans.fit(df)"
   ]
  },
  {
   "cell_type": "markdown",
   "id": "498834fb",
   "metadata": {},
   "source": [
    "## Langkah 4: Menambahkan Hasil Cluster ke DataFrame\n",
    "\n",
    "Setelah clustering dilakukan, kita akan menambahkan hasil cluster ke dalam DataFrame sebagai kolom baru."
   ]
  },
  {
   "cell_type": "code",
   "execution_count": null,
   "id": "3083b5f5",
   "metadata": {},
   "outputs": [],
   "source": [
    "df['cluster'] = kmeans.labels_"
   ]
  },
  {
   "cell_type": "markdown",
   "id": "3f483e61",
   "metadata": {},
   "source": [
    "## Langkah 5: Visualisasi Hasil Clustering\n",
    "\n",
    "Terakhir, kita akan memvisualisasikan hasil clustering menggunakan scatter plot."
   ]
  },
  {
   "cell_type": "code",
   "execution_count": null,
   "id": "11a46440",
   "metadata": {},
   "outputs": [],
   "source": [
    "plt.scatter(df['x'], df['y'], c=df['cluster'], cmap='viridis')\n",
    "plt.xlabel('x')\n",
    "plt.ylabel('y')\n",
    "plt.title('Hasil Clustering dengan K-Means')\n",
    "plt.show()"
   ]
  }
 ],
 "metadata": {},
 "nbformat": 4,
 "nbformat_minor": 5
}
